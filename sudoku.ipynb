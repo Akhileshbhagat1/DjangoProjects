{
 "cells": [
  {
   "cell_type": "code",
   "execution_count": null,
   "metadata": {},
   "outputs": [],
   "source": [
    "import numpy as np\n"
   ]
  },
  {
   "cell_type": "code",
   "execution_count": 2,
   "metadata": {},
   "outputs": [],
   "source": [
    "grid = [\n",
    "        [5, 3, 0, 0, 7, 0, 0, 0, 0],\n",
    "        [6, 0, 0, 1, 9, 5, 0, 0, 0],\n",
    "        [0, 9, 8, 0, 0, 0, 0, 6, 0],\n",
    "        [8, 0, 0, 0, 6, 0, 0, 0, 3],\n",
    "        [4, 0, 0, 8, 0, 3, 0, 0, 1],\n",
    "        [7, 0, 0, 0, 2, 0, 0, 0, 6],\n",
    "        [0, 6, 0, 0, 0, 0, 2, 8, 0],\n",
    "        [0, 0, 0, 4, 1, 9, 0, 0, 5],\n",
    "        [0, 0, 0, 0, 8, 0, 0, 7, 9],\n",
    "\n",
    "        ]"
   ]
  },
  {
   "cell_type": "code",
   "execution_count": null,
   "metadata": {},
   "outputs": [],
   "source": [
    "grid1 = [\n",
    "        [0, 0, 5, 0, 2, 0, 4, 0, 8],\n",
    "        [2, 1, 0, 0, 0, 3, 0, 0, 5],\n",
    "        [0, 0, 7, 4, 0, 5, 0, 1, 0],\n",
    "        [8, 0, 0, 3, 0, 0, 5, 0, 7],\n",
    "        [0, 4, 3, 0, 0, 6, 0, 9, 0],\n",
    "        [9, 0, 0, 0, 0, 0, 0, 0, 4],\n",
    "        [4, 0, 0, 0, 3, 0, 1, 8, 0],\n",
    "        [0, 0, 9, 0, 1, 0, 0, 4, 0],\n",
    "        [1, 0, 0, 7, 0, 2, 0, 0, 3],\n",
    "\n",
    "        ]"
   ]
  },
  {
   "cell_type": "code",
   "execution_count": null,
   "metadata": {},
   "outputs": [],
   "source": [
    "print(grid1)"
   ]
  },
  {
   "cell_type": "code",
   "execution_count": null,
   "metadata": {},
   "outputs": [],
   "source": [
    "print(np.matrix(grid1))"
   ]
  },
  {
   "cell_type": "code",
   "execution_count": null,
   "metadata": {},
   "outputs": [],
   "source": [
    "def possible(y,x,n) :\n",
    "    global grid1\n",
    "    for i in range (0,9) :\n",
    "        if grid1[y][i] == n :\n",
    "            return False\n",
    "    for i in range(0,9):\n",
    "        if grid1[i][x] == n:\n",
    "            return False\n",
    "    x0 = (x//3)*3\n",
    "    y0 = (y//3)*3\n",
    "    for i in range(0,3):\n",
    "        for j in range(0,3):\n",
    "            if grid1[y0+i][x0+j] == n:\n",
    "                return False\n",
    "    return True\n",
    "            \n",
    "            "
   ]
  },
  {
   "cell_type": "code",
   "execution_count": null,
   "metadata": {},
   "outputs": [],
   "source": [
    "possible(4,4,3)"
   ]
  },
  {
   "cell_type": "code",
   "execution_count": null,
   "metadata": {},
   "outputs": [],
   "source": [
    "possible(4,4,5)"
   ]
  },
  {
   "cell_type": "code",
   "execution_count": null,
   "metadata": {},
   "outputs": [],
   "source": [
    "def solve():\n",
    "    global grid1\n",
    "    for y in range(9) :\n",
    "        for x in range(9) :\n",
    "            if grid1[y][x] == 0 :\n",
    "                for n in range(1,10) :\n",
    "                    if possible(y,x,n) :\n",
    "                        grid1[y][x] = n\n",
    "                        solve()\n",
    "                        grid1[y][x] = 0\n",
    "                return\n",
    "    print(np.matrix(grid1))\n",
    "    input(\"More?\")\n",
    "                            \n"
   ]
  },
  {
   "cell_type": "code",
   "execution_count": null,
   "metadata": {},
   "outputs": [],
   "source": [
    "solve()"
   ]
  },
  {
   "cell_type": "code",
   "execution_count": null,
   "metadata": {},
   "outputs": [],
   "source": []
  },
  {
   "cell_type": "code",
   "execution_count": null,
   "metadata": {},
   "outputs": [],
   "source": []
  }
 ],
 "metadata": {
  "kernelspec": {
   "display_name": "Python 3",
   "language": "python",
   "name": "python3"
  },
  "language_info": {
   "codemirror_mode": {
    "name": "ipython",
    "version": 3
   },
   "file_extension": ".py",
   "mimetype": "text/x-python",
   "name": "python",
   "nbconvert_exporter": "python",
   "pygments_lexer": "ipython3",
   "version": "3.7.3"
  }
 },
 "nbformat": 4,
 "nbformat_minor": 2
}
